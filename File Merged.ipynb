{
 "cells": [
  {
   "cell_type": "code",
   "execution_count": 1,
   "metadata": {},
   "outputs": [],
   "source": [
    "import pandas as pd"
   ]
  },
  {
   "cell_type": "code",
   "execution_count": 2,
   "metadata": {},
   "outputs": [],
   "source": [
    "loc_list = [\n",
    "    'dago',\n",
    "    'dipatiukur',\n",
    "    'pasir-kaliki',\n",
    "    'pasteur',\n",
    "    'riau',\n",
    "    'jakarta-barat',\n",
    "    'jakarta-utara',\n",
    "    'jakarta-selatan',\n",
    "    'jakarta-timur',\n",
    "    'jakarta-pusat'\n",
    "]\n",
    "\n",
    "user_file_format = 'raw_data/{}-user-info.csv'\n",
    "restaurant_review_file_format = 'raw_data/{}-review-data.csv'\n",
    "restaurant_info_file_format = 'raw_data/{}-restaurant-info.csv'"
   ]
  },
  {
   "cell_type": "code",
   "execution_count": 3,
   "metadata": {},
   "outputs": [],
   "source": [
    "master_user_data = pd.DataFrame()\n",
    "new_input = True\n",
    "\n",
    "for location in loc_list:\n",
    "    user_data = pd.read_csv(user_file_format.format(location)).drop('Unnamed: 0', axis=1)\n",
    "    if new_input:\n",
    "        master_user_data = pd.DataFrame(columns=user_data.columns)\n",
    "        new_input = False\n",
    "\n",
    "    master_user_data = pd.concat([master_user_data, user_data])\n",
    "    \n",
    "master_user_data.drop_duplicates(inplace=True)\n",
    "\n",
    "master_user_data.to_csv('merged/merged_user_data.csv', index=False)"
   ]
  },
  {
   "cell_type": "code",
   "execution_count": 4,
   "metadata": {},
   "outputs": [],
   "source": [
    "master_restaurant_data = pd.DataFrame()\n",
    "new_input = True\n",
    "\n",
    "for location in loc_list:\n",
    "    restaurant_data = pd.read_csv(restaurant_info_file_format.format(location)).drop('Unnamed: 0', axis=1)\n",
    "    if new_input:\n",
    "        master_restaurant_data = pd.DataFrame(columns=restaurant_data.columns)\n",
    "        new_input = False\n",
    "\n",
    "    master_restaurant_data = pd.concat([master_restaurant_data, restaurant_data])\n",
    "    \n",
    "master_restaurant_data.drop_duplicates(inplace=True)\n",
    "\n",
    "master_restaurant_data.to_csv('merged/merged_restaurant_data.csv', index=False)"
   ]
  },
  {
   "cell_type": "code",
   "execution_count": 5,
   "metadata": {
    "scrolled": true
   },
   "outputs": [],
   "source": [
    "master_review_data = pd.DataFrame()\n",
    "new_input = True\n",
    "\n",
    "for location in loc_list:\n",
    "    review_data = pd.read_csv(restaurant_review_file_format.format(location)).drop('Unnamed: 0', axis=1)\n",
    "    if new_input:\n",
    "        master_review_data = pd.DataFrame(columns=review_data.columns)\n",
    "        new_input = False\n",
    "\n",
    "    master_review_data = pd.concat([master_review_data, review_data])\n",
    "    \n",
    "master_review_data.drop_duplicates(inplace=True)\n",
    "\n",
    "master_review_data.to_csv('merged/merged_review_data.csv', index=False)"
   ]
  },
  {
   "cell_type": "code",
   "execution_count": 7,
   "metadata": {},
   "outputs": [
    {
     "name": "stdout",
     "output_type": "stream",
     "text": [
      "Review Table\n",
      "\n",
      "<class 'pandas.core.frame.DataFrame'>\n",
      "RangeIndex: 85297 entries, 0 to 85296\n",
      "Data columns (total 7 columns):\n",
      " #   Column                Non-Null Count  Dtype  \n",
      "---  ------                --------------  -----  \n",
      " 0   user_id               85297 non-null  object \n",
      " 1   resto_id              85297 non-null  float64\n",
      " 2   review_title          85297 non-null  object \n",
      " 3   overall_rating        85297 non-null  float64\n",
      " 4   review_date           85297 non-null  object \n",
      " 5   review_helpful_count  85297 non-null  int64  \n",
      " 6   review_text           85296 non-null  object \n",
      "dtypes: float64(2), int64(1), object(4)\n",
      "memory usage: 4.6+ MB\n"
     ]
    }
   ],
   "source": [
    "print('Review Table')\n",
    "print('')\n",
    "pd.read_csv('merged/merged_review_data.csv').info()"
   ]
  },
  {
   "cell_type": "code",
   "execution_count": null,
   "metadata": {},
   "outputs": [],
   "source": []
  }
 ],
 "metadata": {
  "kernelspec": {
   "display_name": "Python 3",
   "language": "python",
   "name": "python3"
  },
  "language_info": {
   "codemirror_mode": {
    "name": "ipython",
    "version": 3
   },
   "file_extension": ".py",
   "mimetype": "text/x-python",
   "name": "python",
   "nbconvert_exporter": "python",
   "pygments_lexer": "ipython3",
   "version": "3.8.3"
  }
 },
 "nbformat": 4,
 "nbformat_minor": 4
}
